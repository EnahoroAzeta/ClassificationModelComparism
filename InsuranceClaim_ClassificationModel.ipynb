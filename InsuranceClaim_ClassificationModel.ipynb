{
 "cells": [
  {
   "cell_type": "code",
   "execution_count": 1,
   "id": "748f4e16",
   "metadata": {},
   "outputs": [],
   "source": [
    "#Numpy deals with large arrays and linear algebra\n",
    "import numpy as np\n",
    "\n",
    "import pandas as pd \n",
    " \n",
    "# Metrics for Evaluation of model Accuracy and F1-score\n",
    "from sklearn.metrics  import f1_score,accuracy_score\n",
    " \n",
    "#Importing the Decision Tree from scikit-learn library\n",
    "from sklearn.tree import DecisionTreeClassifier\n",
    "\n",
    "#Importing the Gradient Descent Classifier from scikit-learn library\n",
    "from sklearn.linear_model import SGDClassifier\n",
    "\n",
    "#Importing the KNN from scikit-learn library\n",
    "from sklearn.neighbors import KNeighborsClassifier\n",
    " \n",
    "# For splitting of data into train and test set\n",
    "from sklearn.model_selection import train_test_split\n",
    "\n",
    "\n",
    "filePath = '/Users/apple/Documents/Kaggle/ClassificationModel/insurance2.csv'\n",
    "filePath2 = '/Users/apple/Documents/Kaggle/ClassificationModel/insurance3r2.csv'\n",
    "\n",
    "insurance1_df = pd.read_csv(filePath)\n",
    "X = insurance1_df\n",
    "y = X.pop('insuranceclaim')\n",
    "\n",
    "\n",
    "# Split dataset\n",
    "X_train, X_valid, y_train, y_valid = train_test_split(X, y, train_size=0.8, test_size=0.2, random_state=0)\n"
   ]
  },
  {
   "cell_type": "code",
   "execution_count": null,
   "id": "0280d715",
   "metadata": {
    "scrolled": true
   },
   "outputs": [],
   "source": [
    "X_train"
   ]
  },
  {
   "cell_type": "markdown",
   "id": "9322ecd1",
   "metadata": {},
   "source": [
    "# DecisionTreeClassifier"
   ]
  },
  {
   "cell_type": "code",
   "execution_count": null,
   "id": "cf82947b",
   "metadata": {},
   "outputs": [],
   "source": [
    "\n",
    "model = DecisionTreeClassifier()\n",
    "model.fit(X_train,y_train)\n",
    "\n",
    "prediction = model.predict(X_valid)\n",
    "print(accuracy_score(y_valid,prediction))\n",
    "print(f1_score(y_valid,prediction))\n"
   ]
  },
  {
   "cell_type": "markdown",
   "id": "bc6e5c10",
   "metadata": {},
   "source": [
    "# KNN (k-nearest neighbor)"
   ]
  },
  {
   "cell_type": "code",
   "execution_count": null,
   "id": "dc247efe",
   "metadata": {},
   "outputs": [],
   "source": [
    "KNN_model = KNeighborsClassifier()\n",
    "KNN_model.fit(X_train,y_train)\n",
    "\n",
    "prediction = KNN_model.predict(X_valid)\n",
    "print(accuracy_score(y_valid,prediction))\n",
    "print(f1_score(y_valid,prediction))"
   ]
  },
  {
   "cell_type": "markdown",
   "id": "03bb19f8",
   "metadata": {},
   "source": [
    "# Gradient Descent Classifier"
   ]
  },
  {
   "cell_type": "code",
   "execution_count": null,
   "id": "41c9ef76",
   "metadata": {},
   "outputs": [],
   "source": [
    "SGDC_model = SGDClassifier()\n",
    "SGDC_model.fit(X_train,y_train)\n",
    "\n",
    "prediction = SGDC_model.predict(X_valid)\n",
    "print(accuracy_score(y_valid,prediction))\n",
    "print(f1_score(y_valid,prediction))\n"
   ]
  },
  {
   "cell_type": "code",
   "execution_count": null,
   "id": "7a46a412",
   "metadata": {},
   "outputs": [],
   "source": []
  }
 ],
 "metadata": {
  "kernelspec": {
   "display_name": "Python 3",
   "language": "python",
   "name": "python3"
  },
  "language_info": {
   "codemirror_mode": {
    "name": "ipython",
    "version": 3
   },
   "file_extension": ".py",
   "mimetype": "text/x-python",
   "name": "python",
   "nbconvert_exporter": "python",
   "pygments_lexer": "ipython3",
   "version": "3.9.5"
  }
 },
 "nbformat": 4,
 "nbformat_minor": 5
}
